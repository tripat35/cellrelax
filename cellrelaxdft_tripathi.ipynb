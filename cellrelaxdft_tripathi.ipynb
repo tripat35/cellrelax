{
 "cells": [
  {
   "cell_type": "markdown",
   "metadata": {},
   "source": [
    "# qe_workflow.ipynb\n",
    "### Kat Nykiel, Bobby Appleton, Saswat Mishra\n",
    "## Objectives\n",
    "The goal of this workflow is to be able to calculate **equations of state**, which are equations modeling *energy* or *pressure* as a function of *volume*. To generate these equations of state, we can use *density-functional theory* to calculate the energy at various different volumes.\n",
    "\n",
    "Broadly, the procedure we'll use is shown in the flowchart below. This notebook is intended to be a starting point, not a complete workflow\n",
    "\n",
    "![](./images/qe_diagram.png)\n",
    "\n",
    "We'll introduce each step in more detail as they appear in the notebook.\n",
    "```{admonition}\n",
    "Note: this notebook assumes you're vaguely familiar with python and Jupyter notebooks. If you aren't , please reach out to one of us and we'll be able to help\n",
    "```\n",
    "\n"
   ]
  },
  {
   "cell_type": "markdown",
   "metadata": {},
   "source": [
    "To start, let's import the python libraries we'll be using throughout the notebook, and an addition script with helper functions.\n",
    "\n",
    "There will likely be a warning printed: this is fine. Not ideal, but it won't break the notebook"
   ]
  },
  {
   "cell_type": "code",
   "execution_count": null,
   "metadata": {},
   "outputs": [],
   "source": [
    "DESCRIPTION = \"\"\"Cell relax dft with quantum espresso\"\"\""
   ]
  },
  {
   "cell_type": "code",
   "execution_count": null,
   "metadata": {},
   "outputs": [],
   "source": [
    "# Import libraries\n",
    "import numpy as np\n",
    "from mp_api.client import MPRester\n",
    "from pymatgen.io.pwscf import PWInput\n",
    "\n",
    "# Import helper functions\n",
    "#from qe_functions import *"
   ]
  },
  {
   "cell_type": "code",
   "execution_count": null,
   "metadata": {},
   "outputs": [],
   "source": [
    "%load_ext yamlmagic"
   ]
  },
  {
   "cell_type": "raw",
   "metadata": {
    "tags": [
     "INPUTS"
    ]
   },
   "source": [
    "%%yaml INPUTS\n",
    "        \n",
    "Energy_cutoff:\n",
    "    type: Number\n",
    "    description: KE_cutoff\n",
    "    value: 50\n",
    "    min: 10\n",
    "    max: 200\n",
    "    units: Ry\n",
    "        \n",
    "Material:\n",
    "    type: Text\n",
    "    description: Material_ID\n",
    "    value: 'mp-1960'\n",
    "\n",
    "Target_Pressure:\n",
    "    type: Number\n",
    "    description: Target_pressure\n",
    "    value: 10\n",
    "    min: -5\n",
    "    max: 500\n",
    "    units: GPa\n",
    "\n",
    "k_points:\n",
    "    type: Array\n",
    "    description: Number of grid points in reciprocal space\n",
    "    value: [3,3,3]\n",
    "\n",
    "\n",
    "    "
   ]
  },
  {
   "cell_type": "code",
   "execution_count": null,
   "metadata": {},
   "outputs": [],
   "source": [
    "def read_key():\n",
    "    \"\"\"\n",
    "    Read in new Materials Project API key\n",
    "    \"\"\"\n",
    "    import os, stat\n",
    "    from IPython.display import clear_output\n",
    "\n",
    "    # Read in new Materials Project API key, if one exists\n",
    "    try:\n",
    "        with open(os.path.expanduser('~/.mpkey.txt'), 'r') as f:\n",
    "            key = f.readlines()[0]\n",
    "            return key\n",
    "    except:\n",
    "        key = \"\"\n",
    "\n",
    "    # Check if API key already exists, skip try-except\n",
    "    if not key:\n",
    "        # Prompt user for API key\n",
    "        try:\n",
    "            user = str(input())\n",
    "            clear_output()\n",
    "            if not user.isalnum():\n",
    "                raise TypeError('Wrong Key')\n",
    "            if user == None:\n",
    "                raise TypeError('Empty')\n",
    "            with open(os.path.expanduser('~/.mpkey.txt'), 'w') as keyfile:\n",
    "                keyfile.write(user)\n",
    "            os.chmod(os.path.expanduser('~/.mpkey.txt'), stat.S_IREAD | stat.S_IWRITE)\n",
    "            del user\n",
    "\n",
    "            with open(os.path.expanduser('~/.mpkey.txt'),'r') as f:\n",
    "                key = f.readlines()[0]\n",
    "                return key\n",
    "            print(\"Success\")\n",
    "        except:\n",
    "            print(\"Something seems wrong with your key\")\n",
    "            \n",
    "def view_struct(struct):\n",
    "    \"\"\"\n",
    "    Plot interactive 3D crystal structure \n",
    "    \n",
    "    input: \n",
    "        struct (pymatgen structure object)\n",
    "    output: \n",
    "        n/a\n",
    "    \"\"\"\n",
    "    \n",
    "    # Import libraries\n",
    "    import plotly.express as px\n",
    "    import plotly.graph_objects as go\n",
    "    import pandas as pd\n",
    "    import numpy as np\n",
    "    \n",
    "    # Convert list of sites to pandas DataFrame object (there's gotta be a better way?)\n",
    "    x_list = [site.coords[0] for site in struct.sites]\n",
    "    y_list = [site.coords[1] for site in struct.sites]\n",
    "    z_list = [site.coords[2] for site in struct.sites]\n",
    "    e_list = [site.species.elements[0] for site in struct.sites]\n",
    "    \n",
    "    scaling_factor = 20\n",
    "    r_list = [scaling_factor*site.species.elements[0].atomic_radius_calculated \n",
    "              for site in struct.sites]\n",
    "    \n",
    "    site_df = pd.DataFrame({'x':x_list,'y':y_list,'z':z_list,'element':e_list,'r':r_list})\n",
    "    \n",
    "    # Draw spheres at each site\n",
    "    fig = px.scatter_3d(site_df,x='x',y='y',z='z',size='r',size_max=100,\n",
    "                        color='element',opacity=1,\n",
    "                        color_discrete_sequence=px.colors.qualitative.Bold)\n",
    "\n",
    "    # Convert lattice parameters to unit cell box\n",
    "    lattice = struct.lattice.matrix\n",
    "    corners = np.array([[0,1,1,0,0,0,0,1,1,0,0,1,1,1,1,0,0],\n",
    "                        [0,0,1,1,0,0,0,0,1,1,0,0,0,1,1,1,1],\n",
    "                        [0,0,0,0,0,1,1,1,1,1,1,1,0,0,1,1,0]]).T\n",
    "    cell = np.matmul(corners,lattice).transpose()\n",
    "    box = pd.DataFrame({'x':cell[0],'y':cell[1],'z':cell[2]})\n",
    "    \n",
    "    # Draw box\n",
    "    box = px.line_3d(box,x='x', y='y', z='z')\n",
    "    box.data[0]['line']['color']='black'\n",
    "    \n",
    "    fig.add_traces(list(box.select_traces()))\n",
    "    fig.update_layout(scene = dict(\n",
    "                      xaxis = dict(\n",
    "                        nticks=0,showbackground=False,showticklabels=False,visible=False),\n",
    "                      yaxis = dict(\n",
    "                        nticks=0,showbackground=False,showticklabels=False,visible=False),\n",
    "                      zaxis = dict(\n",
    "                        nticks=0,showbackground=False,showticklabels=False,visible=False),),\n",
    "                      width=600,\n",
    "                      font_size=20,\n",
    "                      title_text=f\"{struct.formula}: {struct.get_space_group_info()}\",\n",
    "                    \n",
    "                  )\n",
    "    \n",
    "\n",
    "    \n",
    "    fig.show()\n",
    "    \n",
    "def get_qe_outputs(file):\n",
    "    \"\"\"\n",
    "    Extract outputs (energies, forces, structures) from qe .stdout files\n",
    "    \n",
    "    inputs:\n",
    "        file: path to the file we want to extract outputs from\n",
    "    outputs:\n",
    "        dict: dictionary of the extracted outputs\n",
    "    \"\"\"\n",
    "    \n",
    "    # TODO: this is very VERY hardcoded. you can do better, fix this (past kat to future kat)\n",
    "    import numpy as np\n",
    "    \n",
    "    output = open(file, \"r\")\n",
    "    lines = output.readlines()\n",
    "    iE = [] # energy at each ionic step, Ry\n",
    "    eE = [[]] # energy at each electronic step, Ry\n",
    "    P = [] # pressure, kbar\n",
    "    F = [] # total force, Ry/au\n",
    "    stresses = [] # stress tensor, kbar\n",
    "    structures = [] # pymatgen structure objects, angstrom\n",
    "\n",
    "    from pymatgen.core import Lattice, Structure\n",
    "\n",
    "    # Check for certain tags on lines, add variables to lists\n",
    "    for i,line in enumerate(lines):\n",
    "        if 'total energy' in line and '!' not in line and 'The' not in line:\n",
    "            eE[-1].append(float(line.split()[3]))\n",
    "        elif '!' in line:\n",
    "            eE.append([])\n",
    "            iE.append(float(line.split()[4]))\n",
    "        elif 'P=' in line:\n",
    "            P.append(float(line.split()[5]))\n",
    "            stresses.append(np.array([lines[i+1].split()[3:6],lines[i+2].split()[3:6],lines[i+3].split()[3:6]]).astype(float))\n",
    "        elif \"Total force\" in line:\n",
    "            F.append(float(line.split()[3]))\n",
    "        # TODO: come back and fix this, make it more robust \n",
    "        # figure out why QE only sometimes gives cell outputs\n",
    "        elif 'CELL_PARAMETERS' in line:\n",
    "            try:\n",
    "                lattice = np.array([lines[i+1].split(),lines[i+2].split(),lines[i+3].split()]).astype(float)\n",
    "                sites = []\n",
    "                atoms = []\n",
    "                j=6\n",
    "                while (\"End\" not in lines[i+j]) and (lines[i+j]!=\"\"):\n",
    "                    sites.append(np.array(lines[i+j].split()[1:]).astype(float))\n",
    "                    atoms.append(lines[i+j].split()[0])\n",
    "                    j=j+1\n",
    "                lattice_obj = Lattice(lattice)\n",
    "                test_struct = Structure(lattice,atoms,sites)\n",
    "                structures.append(test_struct)\n",
    "            except:\n",
    "                pass\n",
    "    eE = eE[:-1]\n",
    "\n",
    "    # return output dictionary\n",
    "    return {'ionic_energies':iE,'electronic_energies':eE,'pressure':P,'forces':F,'stresses':stresses,'structures':structures}\n",
    "    \n",
    "\n",
    "def get_convergence_plots(step_dict, sim_name = \"\"):\n",
    "    \"\"\"\n",
    "    Plot both ionic and electronic energy at each SCF step\n",
    "    \n",
    "    inputs:\n",
    "        step_dict: dictionary output from get_qe_outputs()\n",
    "        sim_name: optional name to add to title on plot\n",
    "    outputs:\n",
    "        n/a\n",
    "    \"\"\"\n",
    "    \n",
    "    import plotly.graph_objects as go\n",
    "    import numpy as np\n",
    "    # Extract the energies, lining up electronic and ionic steps\n",
    "    i_energies = step_dict['ionic_energies']\n",
    "    e_energies_array = step_dict['electronic_energies']\n",
    "    e_count = [len(e) for e in e_energies_array]\n",
    "    i_steps = [sum(e_count[0:n+1]) for n in range(len(e_count))]\n",
    "    e_energies = [item for sublist in e_energies_array for item in sublist]\n",
    "    e_steps = np.linspace(1,len(e_energies),len(e_energies))\n",
    "\n",
    "    template='simple_white'\n",
    "    # Create and save a plotly figure with the energy at each ionic and electronic step\n",
    "    fig_energies = go.Figure()\n",
    "    fig_energies.add_trace(go.Scatter(x = e_steps, y = e_energies, name = 'electronic'))\n",
    "    fig_energies.add_trace(go.Scatter(x = i_steps, y = i_energies, name = 'ionic'))\n",
    "\n",
    "    scaling_factor = 1.005\n",
    "    fig_energies.update_layout(\n",
    "        title = f'{sim_name} energy convergence',\n",
    "        xaxis_title = 'electronic steps',\n",
    "        yaxis_title = 'energy (Ry)',\n",
    "        yaxis_range = [min(i_energies)*scaling_factor,max(i_energies)/scaling_factor],\n",
    "        template=template\n",
    "    )\n",
    "    \n",
    "    fig_energies.show()\n",
    "    \n",
    "    return True\n",
    "\n",
    "            \n",
    "def main():\n",
    "    # Main loop \n",
    "    pass\n",
    "\n",
    "if __name__ == \"__main__\":\n",
    "    main()"
   ]
  },
  {
   "cell_type": "markdown",
   "metadata": {},
   "source": [
    "## Query structure from Materials Project\n",
    "\n",
    "The first step of our workflow is choosing which system we want to simulate. Luckily, [Materials Project](https://materialsproject.org/) is an open database which catalogues information on tens of thousands of materials and their properties.\n",
    "\n",
    "If you don't have one already, now would be a good time to obtain an API key, which we'll use to connect to Materials Project. You can do so [here](https://materialsproject.org/api)\n",
    "\n",
    "Next, we want to choose our system of interest. Discuss with your group (?) which system you'd like to focus on, and use the Materials Project website to find the page for your material. It should look something like below.\n",
    "\n",
    "![](./images/mp_dashboard.png)\n",
    "\n",
    "**task:** Run the following cells to load your key and query for your specific mp-ID"
   ]
  },
  {
   "cell_type": "code",
   "execution_count": null,
   "metadata": {},
   "outputs": [],
   "source": [
    "# Load (or enter when prompted) your API key \n",
    "key = read_key()"
   ]
  },
  {
   "cell_type": "code",
   "execution_count": null,
   "metadata": {
    "scrolled": false
   },
   "outputs": [],
   "source": [
    "# Query using new Materials Project API for a specific ID\n",
    "with MPRester(key) as m:\n",
    "    data = m.summary.search(material_ids=[Material]) # Change this to your chosen mp-ID"
   ]
  },
  {
   "cell_type": "markdown",
   "metadata": {},
   "source": [
    "This returns a lot of information, but right now we're just interested in the **structure** object. This is the Materials Project-preferred way to pass unit cell data (lattice, basis, etc.) in python"
   ]
  },
  {
   "cell_type": "code",
   "execution_count": null,
   "metadata": {
    "scrolled": true
   },
   "outputs": [],
   "source": [
    "struct = data[0].structure\n",
    "display(struct)"
   ]
  },
  {
   "cell_type": "markdown",
   "metadata": {},
   "source": [
    "To make sure you have the right structure, try running the cell below "
   ]
  },
  {
   "cell_type": "code",
   "execution_count": null,
   "metadata": {},
   "outputs": [],
   "source": [
    "B = data[0].k_voigt\n",
    "#B2 = data[0].k_reuss\n",
    "display(B)"
   ]
  },
  {
   "cell_type": "code",
   "execution_count": null,
   "metadata": {},
   "outputs": [],
   "source": [
    "# View structure\n",
    "view_struct(struct)"
   ]
  },
  {
   "cell_type": "markdown",
   "metadata": {},
   "source": [
    "## Strain structure\n",
    "Now that we have our structure object, we want to be able to run density-functional theory (DFT) at different points along the equation of state. This means we'll need to perform DFT at different volumes of our system.\n",
    "\n",
    "We take a multi-step process to simulate a high-pressure system, which is detailed below\n",
    "1. apply hydrostatic (equal) strain in all directions\n",
    "2. perform a relaxation where only the ions are allowed to move\n",
    "3. obtain the pressure calculated in the previous relaxation\n",
    "4. perform a relaxation at this target pressure where ions and lattice vectors can move"
   ]
  },
  {
   "cell_type": "markdown",
   "metadata": {},
   "source": [
    "As a starting point, we're applying a 10% strain in each direction. However, imagine that we want to simulate our system at a specific pressure, we want our initial estimate to be as close as possible.\n",
    "\n",
    "One method of doing this is to approximate the required strain using the *bulk modulus*, which is related to the pressure and volume as follows $$B=-V\\frac{\\partial P}{\\partial V}$$\n",
    "\n",
    "**** For a challenge, consider how we can query Materials Project for the bulk modulus and use this to approximate the strain required for a specific pressure"
   ]
  },
  {
   "cell_type": "code",
   "execution_count": null,
   "metadata": {
    "scrolled": true
   },
   "outputs": [],
   "source": [
    "# Check lattice parameters before strain\n",
    "struct.lattice.abc"
   ]
  },
  {
   "cell_type": "code",
   "execution_count": null,
   "metadata": {},
   "outputs": [],
   "source": [
    "# Apply uniform strain to lattice (10% compression in each direction)\n",
    "e = -Target_Pressure/B/3\n",
    "struct.apply_strain(e)"
   ]
  },
  {
   "cell_type": "code",
   "execution_count": null,
   "metadata": {},
   "outputs": [],
   "source": [
    "# Check new lattice vectors\n",
    "struct.lattice.abc"
   ]
  },
  {
   "cell_type": "markdown",
   "metadata": {},
   "source": [
    "## Run density functional theory with quantum espresso\n",
    "\n",
    "Next, we want to run two DFT calculations: an ionic relaxation, followed by a variable cell relaxation at a fixed pressure. \n",
    "\n",
    "We'll be doing this using [**quantum espresso**](https://www.quantum-espresso.org/) (QE), an open-source code for DFT. To make it easier to create input files, we're going to continue using *pymatgen*, a python library for computational materials science\n",
    "\n",
    "In this example, we'll use a set of project-augmented wave (PAW) pseudopotentials with a Perdew–Burke–Ernzerhof (PBE) exchange-correlation functional. Several other choices are found [here](https://www.quantum-espresso.org/pseudopotentials/) "
   ]
  },
  {
   "cell_type": "markdown",
   "metadata": {},
   "source": [
    "### Generate QE input files using pymatgen\n",
    "These two functions will let us create and run QE simulations from a Jupyter notebook, which makes it much easier to automate than manually editing the files. "
   ]
  },
  {
   "cell_type": "code",
   "execution_count": null,
   "metadata": {},
   "outputs": [],
   "source": [
    "def make_sim(name,struct,**kwargs):\n",
    "    \"\"\"\n",
    "    Generate quantum espresso input files using pymatgen's PWInput class\n",
    "    \n",
    "    Inputs:\n",
    "        name: chosen name for your simulation (i.e. ionic_relax)\n",
    "        struct: pymatgen structure object \n",
    "    Outputs: \n",
    "        n/a\n",
    "    **kwargs:\n",
    "        dictionaries to input to pymatgen's PWInput object\n",
    "    \"\"\"\n",
    "    # Prepare dict of pseudopotentials (i.e. {'Mg': 'Mg.upf', 'O': 'O.upf'})\n",
    "    elements = np.unique([site.species.elements[0].symbol for site in struct.sites])\n",
    "    pseudo_dict = dict(zip(elements,[f\"{element}.upf\" for element in elements]))\n",
    "\n",
    "    # Define input set\n",
    "    input_set = PWInput(structure=struct,\n",
    "                        pseudo=pseudo_dict,\n",
    "                        **kwargs) # dictionaries corresponding to blocks in QE input files\n",
    "\n",
    "    input_set.write_file(filename=f'{name}.in')\n",
    "    \n",
    "def run_sim(name,struct):\n",
    "    \"\"\"\n",
    "    Submit quantum espresso runs to HPC clusters on nanoHUB\n",
    "    \n",
    "    Inputs:\n",
    "        name: chosen name for your simulation (i.e. ionic_relax)\n",
    "        struct: pymatgen structure object \n",
    "    Outputs: \n",
    "        n/a\n",
    "    \"\"\"\n",
    "    # Write input and output files\n",
    "    input_file = open(f'{name}.in','a')\n",
    "    input_file.close()\n",
    "\n",
    "    output_file = open(f'{name}.out', 'w')\n",
    "    output_file.close()\n",
    "    \n",
    "    # Set up commands and files\n",
    "    elements = np.unique([site.species.elements[0].symbol for site in struct.sites])\n",
    "    pseudo_arg = \"\".join([f\"-i ./pseudo/pseudo_PAW/{element}.upf \" for element in elements])\n",
    "    COMMAND = f\"espresso-6.8_pw > {output_file.name}\"\n",
    "    \n",
    "    # Run simulation (1 node, 1 hour walltime)\n",
    "    !submit -n 1 -w '01:00:00' -e QE_DISABLE_GGA_PBE=0 --runName {name} {COMMAND} {pseudo_arg} -i {input_file.name}\n"
   ]
  },
  {
   "cell_type": "markdown",
   "metadata": {},
   "source": [
    "### Run an ionic relaxation of our strained structure\n",
    "Let's use our two functions to run an ionic relaxation in quantum espresso. The parameters of the simulation are controlled via tags, which are found [here](https://www.quantum-espresso.org/Doc/INPUT_PW.html). They are controlled by blocks (control, system, etc.) and passed to our function as dictionaries of tags\n",
    "\n",
    "**** The kinetic energy cutoff (ecutwfc) and kpoints (kpoints_grid) have a significant effect on the convergence of the simulation. In DFT, we typically hold one parameter at a high value and vary the other to determine what minimum is necessary for convergence with respect to some property (i.e. lattice parameter)."
   ]
  },
  {
   "cell_type": "code",
   "execution_count": null,
   "metadata": {
    "tags": [
     "FILES"
    ]
   },
   "outputs": [],
   "source": [
    "EXTRA_FILES = [\"pseudo\"]"
   ]
  },
  {
   "cell_type": "code",
   "execution_count": null,
   "metadata": {},
   "outputs": [],
   "source": [
    "# Create an ionic relaxation sim\n",
    "make_sim(\"relax\", struct,\n",
    "         control={'pseudo_dir':'./',\n",
    "                  'calculation':'relax',\n",
    "                  'outdir':'./',\n",
    "                  'tstress':True},\n",
    "         system={'ecutwfc':Energy_cutoff},\n",
    "         kpoints_grid=k_points)"
   ]
  },
  {
   "cell_type": "markdown",
   "metadata": {},
   "source": [
    "The input file should be made! Check your directory for a *relax.in* file. This is what quantum espresso uses to determine which simulation to run."
   ]
  },
  {
   "cell_type": "code",
   "execution_count": null,
   "metadata": {},
   "outputs": [],
   "source": [
    "# Run relax simulation\n",
    "run_sim(\"relax\", struct)"
   ]
  },
  {
   "cell_type": "markdown",
   "metadata": {},
   "source": [
    "This simulation should take 3-5 minutes to run. If it takes longer, consider lowering the kinetic energy cutoff or kpoint size, or choosing a smaller system. \n",
    "\n",
    "Once it's done, run the following cells to extract some outputs"
   ]
  },
  {
   "cell_type": "code",
   "execution_count": null,
   "metadata": {},
   "outputs": [],
   "source": [
    "# Extract outputs using helper function\n",
    "relax_dict = get_qe_outputs('relax.stdout')\n",
    "relaxed_struct = relax_dict['structures']\n",
    "# ^^^ This structure is not consistent, and might be empty\n",
    "try:\n",
    "    display(relaxed_struct[-1])\n",
    "except:\n",
    "    pass\n",
    "### TODO: write a better output parser - past Kat to future Kat"
   ]
  },
  {
   "cell_type": "code",
   "execution_count": null,
   "metadata": {},
   "outputs": [],
   "source": [
    "# Get a list of all the extracted outputs\n",
    "[print(k) for k,v in relax_dict.items()];"
   ]
  },
  {
   "cell_type": "markdown",
   "metadata": {},
   "source": [
    "Now let's do a variable-cell relaxation"
   ]
  },
  {
   "cell_type": "code",
   "execution_count": null,
   "metadata": {},
   "outputs": [],
   "source": [
    "# Create a variable-cell relaxation sim\n",
    "make_sim(\"vcrelax\", struct,\n",
    "       control={'pseudo_dir':'./',\n",
    "                  'calculation':'vc-relax',\n",
    "                  'outdir':'./',\n",
    "                 'tstress':True},\n",
    "        cell={'press':relax_dict['pressure'][-1]},\n",
    "        system={'ecutwfc':Energy_cutoff},\n",
    "         kpoints_grid=k_points)\n",
    "#cell={'press':relax_dict['pressure'][-1]},\n",
    "# Run vc-relax simulation\n",
    "run_sim(\"vcrelax\", struct)"
   ]
  },
  {
   "cell_type": "code",
   "execution_count": null,
   "metadata": {
    "scrolled": true
   },
   "outputs": [],
   "source": [
    "#Extract final energy and pressure\n",
    "vcrelax_dict = get_qe_outputs('vcrelax.stdout')\n",
    "final_energy = vcrelax_dict['ionic_energies'][-1]\n",
    "print(f\"{final_energy} Ry\\n{vcrelax_dict['pressure'][-1]} kbar\")"
   ]
  },
  {
   "cell_type": "code",
   "execution_count": null,
   "metadata": {},
   "outputs": [],
   "source": [
    "# View structure\n",
    "vcrelaxed_struct = vcrelax_dict['structures']\n",
    "try:\n",
    "    display(vcrelaxed_struct[-1])\n",
    "except:\n",
    "    pass"
   ]
  },
  {
   "cell_type": "code",
   "execution_count": null,
   "metadata": {},
   "outputs": [],
   "source": [
    "import sys\n",
    "import os\n",
    "import shutil\n",
    "\n",
    "from simtool import DB, parse"
   ]
  },
  {
   "cell_type": "code",
   "execution_count": null,
   "metadata": {
    "tags": [
     "Output"
    ]
   },
   "outputs": [],
   "source": [
    "%%yaml OUTPUTS\n",
    "\n",
    "FinalPressure:\n",
    "    type: Number\n",
    "    description: Final Pressure\n",
    "    value: 0\n",
    "    units: kbar\n",
    "    \n",
    "FinalEnergy:\n",
    "    type: Number\n",
    "    description: Final Energy\n",
    "    value: 0\n",
    "    units: Ry\n",
    "\n",
    "    \n",
    "FinalVolume:\n",
    "    type: Number\n",
    "    description: Final Volume\n",
    "    value: 0\n",
    "    units: Å^3\n"
   ]
  },
  {
   "cell_type": "code",
   "execution_count": null,
   "metadata": {},
   "outputs": [],
   "source": [
    "db = DB(OUTPUTS)"
   ]
  },
  {
   "cell_type": "code",
   "execution_count": null,
   "metadata": {},
   "outputs": [],
   "source": [
    "db.save('FinalPressure', f\"{vcrelax_dict['pressure'][-1]}\")\n",
    "db.save('FinalEnergy', f\"{final_energy}\")\n",
    "db.save('FinalVolume', f\"{vcrelaxed_struct[-1].volume}\")"
   ]
  },
  {
   "cell_type": "code",
   "execution_count": null,
   "metadata": {},
   "outputs": [],
   "source": []
  }
 ],
 "metadata": {
  "celltoolbar": "Tags",
  "kernelspec": {
   "display_name": "Python 3.8 (MATERIALS)",
   "language": "python",
   "name": "materials"
  },
  "language_info": {
   "codemirror_mode": {
    "name": "ipython",
    "version": 3
   },
   "file_extension": ".py",
   "mimetype": "text/x-python",
   "name": "python",
   "nbconvert_exporter": "python",
   "pygments_lexer": "ipython3",
   "version": "3.8.13"
  },
  "vscode": {
   "interpreter": {
    "hash": "90e97c2e1e3d049a0c4dcb4a1fbc9eb7147afc887ab317ded913de62d02f2d04"
   }
  }
 },
 "nbformat": 4,
 "nbformat_minor": 2
}
