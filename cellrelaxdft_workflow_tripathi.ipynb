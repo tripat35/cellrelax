{
 "cells": [
  {
   "cell_type": "code",
   "execution_count": 316,
   "metadata": {},
   "outputs": [],
   "source": [
    "from simtool import findInstalledSimToolNotebooks,searchForSimTool\n",
    "from simtool import getSimToolInputs,getSimToolOutputs,Run"
   ]
  },
  {
   "cell_type": "code",
   "execution_count": 317,
   "metadata": {},
   "outputs": [
    {
     "name": "stdout",
     "output_type": "stream",
     "text": [
      "      notebookPath = /home/nanohub/tripat35/cellrelaxdft/simtool/qe_workflow.ipynb\n",
      "       simToolName = qe_workflow\n",
      "   simToolRevision = None\n",
      "         published = False\n"
     ]
    }
   ],
   "source": [
    "simToolName = \"qe_workflow\"\n",
    "simToolLocation = searchForSimTool(simToolName)\n",
    "for key in simToolLocation.keys():\n",
    "    print(\"%18s = %s\" % (key,simToolLocation[key]))"
   ]
  },
  {
   "cell_type": "code",
   "execution_count": 318,
   "metadata": {},
   "outputs": [
    {
     "name": "stdout",
     "output_type": "stream",
     "text": [
      "{}\n"
     ]
    }
   ],
   "source": [
    "installedSimToolNotebooks = findInstalledSimToolNotebooks(simToolName,returnString=True)\n",
    "print(installedSimToolNotebooks)"
   ]
  },
  {
   "cell_type": "code",
   "execution_count": 319,
   "metadata": {
    "scrolled": true
   },
   "outputs": [
    {
     "data": {
      "text/plain": [
       "Energy_cutoff:\n",
       "    type: Number\n",
       "    description: KE_cutoff\n",
       "    units: rydberg\n",
       "    min: 10\n",
       "    max: 200\n",
       "    value: 50\n",
       "\n",
       "Material:\n",
       "    type: Text\n",
       "    description: Material_ID\n",
       "    value: mp-1960\n",
       "\n",
       "Target_Pressure:\n",
       "    type: Number\n",
       "    description: Target_pressure\n",
       "    units: gigapascal\n",
       "    min: -5\n",
       "    max: 500\n",
       "    value: 10\n",
       "\n",
       "k_points:\n",
       "    type: Array\n",
       "    description: Number of grid points in reciprocal space\n",
       "    min: None\n",
       "    max: None\n",
       "    value: [3, 3, 3]"
      ]
     },
     "execution_count": 319,
     "metadata": {},
     "output_type": "execute_result"
    }
   ],
   "source": [
    "# get the list of inputs\n",
    "inputs = getSimToolInputs(simToolLocation)\n",
    "inputs"
   ]
  },
  {
   "cell_type": "code",
   "execution_count": 320,
   "metadata": {},
   "outputs": [
    {
     "data": {
      "text/plain": [
       "Energy_cutoff:\n",
       "    type: Number\n",
       "    description: KE_cutoff\n",
       "    units: rydberg\n",
       "    min: 10\n",
       "    max: 200\n",
       "    value: 50\n",
       "\n",
       "Material:\n",
       "    type: Text\n",
       "    description: Material_ID\n",
       "    value: mp-1960\n",
       "\n",
       "Target_Pressure:\n",
       "    type: Number\n",
       "    description: Target_pressure\n",
       "    units: gigapascal\n",
       "    min: -5\n",
       "    max: 500\n",
       "    value: 50\n",
       "\n",
       "k_points:\n",
       "    type: Array\n",
       "    description: Number of grid points in reciprocal space\n",
       "    min: None\n",
       "    max: None\n",
       "    value: [3, 3, 3]"
      ]
     },
     "execution_count": 320,
     "metadata": {},
     "output_type": "execute_result"
    }
   ],
   "source": [
    "inputs['Energy_cutoff'].value = 50\n",
    "inputs['Material'].value = 'mp-1960'\n",
    "inputs['Target_Pressure'].value = 50\n",
    "inputs['k_points'].value = [3,3,3]\n",
    "\n",
    "inputs"
   ]
  },
  {
   "cell_type": "code",
   "execution_count": 321,
   "metadata": {
    "scrolled": true
   },
   "outputs": [
    {
     "name": "stdout",
     "output_type": "stream",
     "text": [
      "FinalPressure:\n",
      "    type: Number\n",
      "    description: Final Pressure\n",
      "    units: kilobar\n",
      "    min: None\n",
      "    max: None\n",
      "    value: 0\n",
      "\n",
      "FinalEnergy:\n",
      "    type: Number\n",
      "    description: Final Energy\n",
      "    units: rydberg\n",
      "    min: None\n",
      "    max: None\n",
      "    value: 0\n",
      "\n",
      "FinalVolume:\n",
      "    type: Number\n",
      "    description: Final Volume\n",
      "    units: angstrom ** 3\n",
      "    min: None\n",
      "    max: None\n",
      "    value: 0\n",
      "\n"
     ]
    }
   ],
   "source": [
    "# get the list of outputs\n",
    "outputs = getSimToolOutputs(simToolLocation)\n",
    "print(outputs)"
   ]
  },
  {
   "cell_type": "code",
   "execution_count": 322,
   "metadata": {},
   "outputs": [
    {
     "name": "stdout",
     "output_type": "stream",
     "text": [
      "runname   = 6e68e7c28f534d30a3a2249649f2641b\n",
      "outdir    = RUNS/6e68e7c28f534d30a3a2249649f2641b\n",
      "cached    = False\n",
      "submit --local /apps/share64/debian10/anaconda/anaconda-7/bin/papermill -f\n",
      "       inputs.yaml /home/nanohub/tripat35/cellrelaxdft/simtool/qe_workflow.ipynb\n",
      "       qe_workflow.ipynb\n"
     ]
    },
    {
     "name": "stderr",
     "output_type": "stream",
     "text": [
      "Input Notebook:  /home/nanohub/tripat35/cellrelaxdft/simtool/qe_workflow.ipynb\n",
      "Output Notebook: qe_workflow.ipynb\n",
      "Input notebook does not contain a cell with tag 'parameters'\n",
      "Executing:   0%|          | 0/48 [00:00<?, ?cell/s]Executing notebook with kernel: materials\n",
      "Executing: 100%|██████████| 48/48 [04:31<00:00,  5.66s/cell]\n"
     ]
    }
   ],
   "source": [
    "r = Run(simToolLocation,inputs)"
   ]
  },
  {
   "cell_type": "code",
   "execution_count": 323,
   "metadata": {},
   "outputs": [
    {
     "data": {
      "text/html": [
       "<div>\n",
       "<style scoped>\n",
       "    .dataframe tbody tr th:only-of-type {\n",
       "        vertical-align: middle;\n",
       "    }\n",
       "\n",
       "    .dataframe tbody tr th {\n",
       "        vertical-align: top;\n",
       "    }\n",
       "\n",
       "    .dataframe thead th {\n",
       "        text-align: right;\n",
       "    }\n",
       "</style>\n",
       "<table border=\"1\" class=\"dataframe\">\n",
       "  <thead>\n",
       "    <tr style=\"text-align: right;\">\n",
       "      <th></th>\n",
       "      <th>name</th>\n",
       "      <th>data</th>\n",
       "      <th>encoder</th>\n",
       "      <th>display</th>\n",
       "      <th>filename</th>\n",
       "    </tr>\n",
       "  </thead>\n",
       "  <tbody>\n",
       "    <tr>\n",
       "      <th>0</th>\n",
       "      <td>simToolSaveErrorOccurred</td>\n",
       "      <td>0</td>\n",
       "      <td>text</td>\n",
       "      <td>None</td>\n",
       "      <td>qe_workflow.ipynb</td>\n",
       "    </tr>\n",
       "    <tr>\n",
       "      <th>1</th>\n",
       "      <td>simToolAllOutputsSaved</td>\n",
       "      <td>1</td>\n",
       "      <td>text</td>\n",
       "      <td>None</td>\n",
       "      <td>qe_workflow.ipynb</td>\n",
       "    </tr>\n",
       "    <tr>\n",
       "      <th>2</th>\n",
       "      <td>FinalPressure</td>\n",
       "      <td>2248.78</td>\n",
       "      <td>text</td>\n",
       "      <td>None</td>\n",
       "      <td>qe_workflow.ipynb</td>\n",
       "    </tr>\n",
       "    <tr>\n",
       "      <th>3</th>\n",
       "      <td>FinalEnergy</td>\n",
       "      <td>-71.64614793</td>\n",
       "      <td>text</td>\n",
       "      <td>None</td>\n",
       "      <td>qe_workflow.ipynb</td>\n",
       "    </tr>\n",
       "    <tr>\n",
       "      <th>4</th>\n",
       "      <td>FinalVolume</td>\n",
       "      <td>12.307517937883281</td>\n",
       "      <td>text</td>\n",
       "      <td>None</td>\n",
       "      <td>qe_workflow.ipynb</td>\n",
       "    </tr>\n",
       "  </tbody>\n",
       "</table>\n",
       "</div>"
      ],
      "text/plain": [
       "                       name                data encoder display  \\\n",
       "0  simToolSaveErrorOccurred                   0    text    None   \n",
       "1    simToolAllOutputsSaved                   1    text    None   \n",
       "2             FinalPressure             2248.78    text    None   \n",
       "3               FinalEnergy        -71.64614793    text    None   \n",
       "4               FinalVolume  12.307517937883281    text    None   \n",
       "\n",
       "            filename  \n",
       "0  qe_workflow.ipynb  \n",
       "1  qe_workflow.ipynb  \n",
       "2  qe_workflow.ipynb  \n",
       "3  qe_workflow.ipynb  \n",
       "4  qe_workflow.ipynb  "
      ]
     },
     "execution_count": 323,
     "metadata": {},
     "output_type": "execute_result"
    }
   ],
   "source": [
    "r.getResultSummary()\n"
   ]
  },
  {
   "cell_type": "code",
   "execution_count": null,
   "metadata": {},
   "outputs": [],
   "source": []
  },
  {
   "cell_type": "code",
   "execution_count": null,
   "metadata": {},
   "outputs": [],
   "source": []
  },
  {
   "cell_type": "code",
   "execution_count": null,
   "metadata": {},
   "outputs": [],
   "source": []
  },
  {
   "cell_type": "code",
   "execution_count": null,
   "metadata": {},
   "outputs": [],
   "source": []
  }
 ],
 "metadata": {
  "kernelspec": {
   "display_name": "Python 3.8",
   "language": "python",
   "name": "python3"
  },
  "language_info": {
   "codemirror_mode": {
    "name": "ipython",
    "version": 3
   },
   "file_extension": ".py",
   "mimetype": "text/x-python",
   "name": "python",
   "nbconvert_exporter": "python",
   "pygments_lexer": "ipython3",
   "version": "3.8.10"
  }
 },
 "nbformat": 4,
 "nbformat_minor": 2
}
